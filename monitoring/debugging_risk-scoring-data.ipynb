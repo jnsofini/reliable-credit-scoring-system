{
 "cells": [
  {
   "cell_type": "markdown",
   "id": "ef3de2e5",
   "metadata": {},
   "source": [
    "# Debugging with Evidently Test Suites and Reports"
   ]
  },
  {
   "cell_type": "code",
   "execution_count": 1,
   "id": "846c2997",
   "metadata": {},
   "outputs": [
    {
     "name": "stderr",
     "output_type": "stream",
     "text": [
      "/home/fini/.local/share/virtualenvs/05-monitoring-NIVV9OLH/lib/python3.10/site-packages/umap/distances.py:1063: NumbaDeprecationWarning: \u001b[1mThe 'nopython' keyword argument was not supplied to the 'numba.jit' decorator. The implicit default value for this argument is currently False, but it will be changed to True in Numba 0.59.0. See https://numba.readthedocs.io/en/stable/reference/deprecation.html#deprecation-of-object-mode-fall-back-behaviour-when-using-jit for details.\u001b[0m\n",
      "  @numba.jit()\n",
      "/home/fini/.local/share/virtualenvs/05-monitoring-NIVV9OLH/lib/python3.10/site-packages/umap/distances.py:1071: NumbaDeprecationWarning: \u001b[1mThe 'nopython' keyword argument was not supplied to the 'numba.jit' decorator. The implicit default value for this argument is currently False, but it will be changed to True in Numba 0.59.0. See https://numba.readthedocs.io/en/stable/reference/deprecation.html#deprecation-of-object-mode-fall-back-behaviour-when-using-jit for details.\u001b[0m\n",
      "  @numba.jit()\n",
      "/home/fini/.local/share/virtualenvs/05-monitoring-NIVV9OLH/lib/python3.10/site-packages/umap/distances.py:1086: NumbaDeprecationWarning: \u001b[1mThe 'nopython' keyword argument was not supplied to the 'numba.jit' decorator. The implicit default value for this argument is currently False, but it will be changed to True in Numba 0.59.0. See https://numba.readthedocs.io/en/stable/reference/deprecation.html#deprecation-of-object-mode-fall-back-behaviour-when-using-jit for details.\u001b[0m\n",
      "  @numba.jit()\n",
      "/home/fini/.local/share/virtualenvs/05-monitoring-NIVV9OLH/lib/python3.10/site-packages/umap/umap_.py:660: NumbaDeprecationWarning: \u001b[1mThe 'nopython' keyword argument was not supplied to the 'numba.jit' decorator. The implicit default value for this argument is currently False, but it will be changed to True in Numba 0.59.0. See https://numba.readthedocs.io/en/stable/reference/deprecation.html#deprecation-of-object-mode-fall-back-behaviour-when-using-jit for details.\u001b[0m\n",
      "  @numba.jit()\n"
     ]
    },
    {
     "name": "stdout",
     "output_type": "stream",
     "text": [
      "(CVXPY) Jun 28 04:42:35 PM: Encountered unexpected exception importing solver GLOP:\n",
      "RuntimeError('Unrecognized new version of ortools (9.6.2534). Expected < 9.5.0.Please open a feature request on cvxpy to enable support for this version.')\n",
      "(CVXPY) Jun 28 04:42:35 PM: Encountered unexpected exception importing solver PDLP:\n",
      "RuntimeError('Unrecognized new version of ortools (9.6.2534). Expected < 9.5.0.Please open a feature request on cvxpy to enable support for this version.')\n"
     ]
    }
   ],
   "source": [
    "import datetime\n",
    "import pandas as pd\n",
    "\n",
    "from evidently import ColumnMapping\n",
    "from evidently.report import Report\n",
    "from evidently.metric_preset import DataDriftPreset\n",
    "\n",
    "from evidently.test_suite import TestSuite\n",
    "from evidently.test_preset import DataDriftTestPreset, DataQualityTestPreset\n",
    "\n",
    "from joblib import dump, load\n",
    "from optbinning import Scorecard\n",
    "\n",
    "from sklearn.linear_model import LinearRegression\n",
    "from sklearn.metrics import mean_absolute_error, mean_absolute_percentage_error"
   ]
  },
  {
   "cell_type": "code",
   "execution_count": 2,
   "id": "b71b6083",
   "metadata": {},
   "outputs": [],
   "source": [
    "t = pd.read_csv(\"/home/fini/github-projects/mlops/data/heloc_dataset_v1.csv\")"
   ]
  },
  {
   "cell_type": "code",
   "execution_count": 3,
   "id": "e3e43159",
   "metadata": {},
   "outputs": [
    {
     "data": {
      "text/plain": [
       "{'riskperformance': 'RiskPerformance',\n",
       " 'externalriskestimate': 'ExternalRiskEstimate',\n",
       " 'msinceoldesttradeopen': 'MSinceOldestTradeOpen',\n",
       " 'msincemostrecenttradeopen': 'MSinceMostRecentTradeOpen',\n",
       " 'averageminfile': 'AverageMInFile',\n",
       " 'numsatisfactorytrades': 'NumSatisfactoryTrades',\n",
       " 'numtrades60ever2derogpubrec': 'NumTrades60Ever2DerogPubRec',\n",
       " 'numtrades90ever2derogpubrec': 'NumTrades90Ever2DerogPubRec',\n",
       " 'percenttradesneverdelq': 'PercentTradesNeverDelq',\n",
       " 'msincemostrecentdelq': 'MSinceMostRecentDelq',\n",
       " 'maxdelq2publicreclast12m': 'MaxDelq2PublicRecLast12M',\n",
       " 'maxdelqever': 'MaxDelqEver',\n",
       " 'numtotaltrades': 'NumTotalTrades',\n",
       " 'numtradesopeninlast12m': 'NumTradesOpeninLast12M',\n",
       " 'percentinstalltrades': 'PercentInstallTrades',\n",
       " 'msincemostrecentinqexcl7days': 'MSinceMostRecentInqexcl7days',\n",
       " 'numinqlast6m': 'NumInqLast6M',\n",
       " 'numinqlast6mexcl7days': 'NumInqLast6Mexcl7days',\n",
       " 'netfractionrevolvingburden': 'NetFractionRevolvingBurden',\n",
       " 'netfractioninstallburden': 'NetFractionInstallBurden',\n",
       " 'numrevolvingtradeswbalance': 'NumRevolvingTradesWBalance',\n",
       " 'numinstalltradeswbalance': 'NumInstallTradesWBalance',\n",
       " 'numbank2natltradeswhighutilization': 'NumBank2NatlTradesWHighUtilization',\n",
       " 'percenttradeswbalance': 'PercentTradesWBalance'}"
      ]
     },
     "execution_count": 3,
     "metadata": {},
     "output_type": "execute_result"
    }
   ],
   "source": [
    "{\n",
    "    col.lower(): col for col in t.columns\n",
    "}"
   ]
  },
  {
   "cell_type": "code",
   "execution_count": 3,
   "id": "6e3752cf",
   "metadata": {},
   "outputs": [],
   "source": [
    "tt = t.tail(10).copy()"
   ]
  },
  {
   "cell_type": "code",
   "execution_count": 4,
   "id": "88c4f737",
   "metadata": {},
   "outputs": [],
   "source": [
    "tt[\"RiskPerformance\"] = (tt[\"RiskPerformance\"]==\"Bad\").astype(\"int8\")"
   ]
  },
  {
   "cell_type": "markdown",
   "id": "785a7048",
   "metadata": {},
   "source": []
  },
  {
   "cell_type": "code",
   "execution_count": 50,
   "id": "ded1661d",
   "metadata": {},
   "outputs": [
    {
     "data": {
      "text/plain": [
       "{'record-0': {'riskperformance': 0,\n",
       "  'externalriskestimate': 57,\n",
       "  'msinceoldesttradeopen': 176,\n",
       "  'msincemostrecenttradeopen': 4,\n",
       "  'averageminfile': 87,\n",
       "  'numsatisfactorytrades': 18,\n",
       "  'numtrades60ever2derogpubrec': 0,\n",
       "  'numtrades90ever2derogpubrec': 0,\n",
       "  'percenttradesneverdelq': 89,\n",
       "  'msincemostrecentdelq': 2,\n",
       "  'maxdelq2publicreclast12m': 4,\n",
       "  'maxdelqever': 6,\n",
       "  'numtotaltrades': 18,\n",
       "  'numtradesopeninlast12m': 1,\n",
       "  'percentinstalltrades': 56,\n",
       "  'msincemostrecentinqexcl7days': 4,\n",
       "  'numinqlast6m': 1,\n",
       "  'numinqlast6mexcl7days': 1,\n",
       "  'netfractionrevolvingburden': 93,\n",
       "  'netfractioninstallburden': 72,\n",
       "  'numrevolvingtradeswbalance': 5,\n",
       "  'numinstalltradeswbalance': 3,\n",
       "  'numbank2natltradeswhighutilization': 1,\n",
       "  'percenttradeswbalance': 100},\n",
       " 'record-1': {'riskperformance': 0,\n",
       "  'externalriskestimate': 84,\n",
       "  'msinceoldesttradeopen': 313,\n",
       "  'msincemostrecenttradeopen': 6,\n",
       "  'averageminfile': 103,\n",
       "  'numsatisfactorytrades': 25,\n",
       "  'numtrades60ever2derogpubrec': 0,\n",
       "  'numtrades90ever2derogpubrec': 0,\n",
       "  'percenttradesneverdelq': 100,\n",
       "  'msincemostrecentdelq': -7,\n",
       "  'maxdelq2publicreclast12m': 7,\n",
       "  'maxdelqever': 8,\n",
       "  'numtotaltrades': 25,\n",
       "  'numtradesopeninlast12m': 2,\n",
       "  'percentinstalltrades': 24,\n",
       "  'msincemostrecentinqexcl7days': 11,\n",
       "  'numinqlast6m': 0,\n",
       "  'numinqlast6mexcl7days': 0,\n",
       "  'netfractionrevolvingburden': 10,\n",
       "  'netfractioninstallburden': 92,\n",
       "  'numrevolvingtradeswbalance': 4,\n",
       "  'numinstalltradeswbalance': 3,\n",
       "  'numbank2natltradeswhighutilization': 0,\n",
       "  'percenttradeswbalance': 70},\n",
       " 'record-2': {'riskperformance': 0,\n",
       "  'externalriskestimate': 79,\n",
       "  'msinceoldesttradeopen': 133,\n",
       "  'msincemostrecenttradeopen': 2,\n",
       "  'averageminfile': 68,\n",
       "  'numsatisfactorytrades': 27,\n",
       "  'numtrades60ever2derogpubrec': 0,\n",
       "  'numtrades90ever2derogpubrec': 0,\n",
       "  'percenttradesneverdelq': 100,\n",
       "  'msincemostrecentdelq': -7,\n",
       "  'maxdelq2publicreclast12m': 7,\n",
       "  'maxdelqever': 8,\n",
       "  'numtotaltrades': 30,\n",
       "  'numtradesopeninlast12m': 3,\n",
       "  'percentinstalltrades': 36,\n",
       "  'msincemostrecentinqexcl7days': 0,\n",
       "  'numinqlast6m': 4,\n",
       "  'numinqlast6mexcl7days': 4,\n",
       "  'netfractionrevolvingburden': 1,\n",
       "  'netfractioninstallburden': 93,\n",
       "  'numrevolvingtradeswbalance': 4,\n",
       "  'numinstalltradeswbalance': 2,\n",
       "  'numbank2natltradeswhighutilization': 0,\n",
       "  'percenttradeswbalance': 60},\n",
       " 'record-3': {'riskperformance': 0,\n",
       "  'externalriskestimate': 90,\n",
       "  'msinceoldesttradeopen': 197,\n",
       "  'msincemostrecenttradeopen': 5,\n",
       "  'averageminfile': 92,\n",
       "  'numsatisfactorytrades': 13,\n",
       "  'numtrades60ever2derogpubrec': 0,\n",
       "  'numtrades90ever2derogpubrec': 0,\n",
       "  'percenttradesneverdelq': 100,\n",
       "  'msincemostrecentdelq': -7,\n",
       "  'maxdelq2publicreclast12m': 7,\n",
       "  'maxdelqever': 8,\n",
       "  'numtotaltrades': 13,\n",
       "  'numtradesopeninlast12m': 1,\n",
       "  'percentinstalltrades': 46,\n",
       "  'msincemostrecentinqexcl7days': 4,\n",
       "  'numinqlast6m': 2,\n",
       "  'numinqlast6mexcl7days': 2,\n",
       "  'netfractionrevolvingburden': 5,\n",
       "  'netfractioninstallburden': 50,\n",
       "  'numrevolvingtradeswbalance': 3,\n",
       "  'numinstalltradeswbalance': 3,\n",
       "  'numbank2natltradeswhighutilization': 0,\n",
       "  'percenttradeswbalance': 100},\n",
       " 'record-4': {'riskperformance': 1,\n",
       "  'externalriskestimate': 75,\n",
       "  'msinceoldesttradeopen': 410,\n",
       "  'msincemostrecenttradeopen': 2,\n",
       "  'averageminfile': 121,\n",
       "  'numsatisfactorytrades': 37,\n",
       "  'numtrades60ever2derogpubrec': 1,\n",
       "  'numtrades90ever2derogpubrec': 1,\n",
       "  'percenttradesneverdelq': 83,\n",
       "  'msincemostrecentdelq': 10,\n",
       "  'maxdelq2publicreclast12m': 4,\n",
       "  'maxdelqever': 3,\n",
       "  'numtotaltrades': 43,\n",
       "  'numtradesopeninlast12m': 1,\n",
       "  'percentinstalltrades': 7,\n",
       "  'msincemostrecentinqexcl7days': 1,\n",
       "  'numinqlast6m': 1,\n",
       "  'numinqlast6mexcl7days': 1,\n",
       "  'netfractionrevolvingburden': 34,\n",
       "  'netfractioninstallburden': -8,\n",
       "  'numrevolvingtradeswbalance': 7,\n",
       "  'numinstalltradeswbalance': 1,\n",
       "  'numbank2natltradeswhighutilization': 1,\n",
       "  'percenttradeswbalance': 53},\n",
       " 'record-5': {'riskperformance': 0,\n",
       "  'externalriskestimate': 73,\n",
       "  'msinceoldesttradeopen': 131,\n",
       "  'msincemostrecenttradeopen': 5,\n",
       "  'averageminfile': 57,\n",
       "  'numsatisfactorytrades': 21,\n",
       "  'numtrades60ever2derogpubrec': 0,\n",
       "  'numtrades90ever2derogpubrec': 0,\n",
       "  'percenttradesneverdelq': 95,\n",
       "  'msincemostrecentdelq': 80,\n",
       "  'maxdelq2publicreclast12m': 6,\n",
       "  'maxdelqever': 6,\n",
       "  'numtotaltrades': 21,\n",
       "  'numtradesopeninlast12m': 5,\n",
       "  'percentinstalltrades': 19,\n",
       "  'msincemostrecentinqexcl7days': 7,\n",
       "  'numinqlast6m': 0,\n",
       "  'numinqlast6mexcl7days': 0,\n",
       "  'netfractionrevolvingburden': 26,\n",
       "  'netfractioninstallburden': -8,\n",
       "  'numrevolvingtradeswbalance': 5,\n",
       "  'numinstalltradeswbalance': 2,\n",
       "  'numbank2natltradeswhighutilization': 0,\n",
       "  'percenttradeswbalance': 100},\n",
       " 'record-6': {'riskperformance': 1,\n",
       "  'externalriskestimate': 65,\n",
       "  'msinceoldesttradeopen': 147,\n",
       "  'msincemostrecenttradeopen': 39,\n",
       "  'averageminfile': 68,\n",
       "  'numsatisfactorytrades': 11,\n",
       "  'numtrades60ever2derogpubrec': 0,\n",
       "  'numtrades90ever2derogpubrec': 0,\n",
       "  'percenttradesneverdelq': 92,\n",
       "  'msincemostrecentdelq': 28,\n",
       "  'maxdelq2publicreclast12m': 6,\n",
       "  'maxdelqever': 6,\n",
       "  'numtotaltrades': 12,\n",
       "  'numtradesopeninlast12m': 0,\n",
       "  'percentinstalltrades': 42,\n",
       "  'msincemostrecentinqexcl7days': 1,\n",
       "  'numinqlast6m': 1,\n",
       "  'numinqlast6mexcl7days': 1,\n",
       "  'netfractionrevolvingburden': 86,\n",
       "  'netfractioninstallburden': 53,\n",
       "  'numrevolvingtradeswbalance': 2,\n",
       "  'numinstalltradeswbalance': 2,\n",
       "  'numbank2natltradeswhighutilization': 1,\n",
       "  'percenttradeswbalance': 80},\n",
       " 'record-7': {'riskperformance': 1,\n",
       "  'externalriskestimate': 74,\n",
       "  'msinceoldesttradeopen': 129,\n",
       "  'msincemostrecenttradeopen': 6,\n",
       "  'averageminfile': 64,\n",
       "  'numsatisfactorytrades': 18,\n",
       "  'numtrades60ever2derogpubrec': 1,\n",
       "  'numtrades90ever2derogpubrec': 1,\n",
       "  'percenttradesneverdelq': 100,\n",
       "  'msincemostrecentdelq': -7,\n",
       "  'maxdelq2publicreclast12m': 6,\n",
       "  'maxdelqever': 8,\n",
       "  'numtotaltrades': 18,\n",
       "  'numtradesopeninlast12m': 1,\n",
       "  'percentinstalltrades': 33,\n",
       "  'msincemostrecentinqexcl7days': 3,\n",
       "  'numinqlast6m': 4,\n",
       "  'numinqlast6mexcl7days': 4,\n",
       "  'netfractionrevolvingburden': 6,\n",
       "  'netfractioninstallburden': -8,\n",
       "  'numrevolvingtradeswbalance': 5,\n",
       "  'numinstalltradeswbalance': -8,\n",
       "  'numbank2natltradeswhighutilization': 0,\n",
       "  'percenttradeswbalance': 56},\n",
       " 'record-8': {'riskperformance': 1,\n",
       "  'externalriskestimate': 72,\n",
       "  'msinceoldesttradeopen': 234,\n",
       "  'msincemostrecenttradeopen': 12,\n",
       "  'averageminfile': 113,\n",
       "  'numsatisfactorytrades': 42,\n",
       "  'numtrades60ever2derogpubrec': 2,\n",
       "  'numtrades90ever2derogpubrec': 2,\n",
       "  'percenttradesneverdelq': 96,\n",
       "  'msincemostrecentdelq': 35,\n",
       "  'maxdelq2publicreclast12m': 6,\n",
       "  'maxdelqever': 2,\n",
       "  'numtotaltrades': 45,\n",
       "  'numtradesopeninlast12m': 0,\n",
       "  'percentinstalltrades': 20,\n",
       "  'msincemostrecentinqexcl7days': 6,\n",
       "  'numinqlast6m': 0,\n",
       "  'numinqlast6mexcl7days': 0,\n",
       "  'netfractionrevolvingburden': 19,\n",
       "  'netfractioninstallburden': -8,\n",
       "  'numrevolvingtradeswbalance': 4,\n",
       "  'numinstalltradeswbalance': 1,\n",
       "  'numbank2natltradeswhighutilization': 0,\n",
       "  'percenttradeswbalance': 38},\n",
       " 'record-9': {'riskperformance': 1,\n",
       "  'externalriskestimate': 66,\n",
       "  'msinceoldesttradeopen': 28,\n",
       "  'msincemostrecenttradeopen': 1,\n",
       "  'averageminfile': 17,\n",
       "  'numsatisfactorytrades': 4,\n",
       "  'numtrades60ever2derogpubrec': 0,\n",
       "  'numtrades90ever2derogpubrec': 0,\n",
       "  'percenttradesneverdelq': 100,\n",
       "  'msincemostrecentdelq': -7,\n",
       "  'maxdelq2publicreclast12m': 7,\n",
       "  'maxdelqever': 8,\n",
       "  'numtotaltrades': 5,\n",
       "  'numtradesopeninlast12m': 2,\n",
       "  'percentinstalltrades': 60,\n",
       "  'msincemostrecentinqexcl7days': 3,\n",
       "  'numinqlast6m': 3,\n",
       "  'numinqlast6mexcl7days': 2,\n",
       "  'netfractionrevolvingburden': 67,\n",
       "  'netfractioninstallburden': -8,\n",
       "  'numrevolvingtradeswbalance': 2,\n",
       "  'numinstalltradeswbalance': 1,\n",
       "  'numbank2natltradeswhighutilization': 0,\n",
       "  'percenttradeswbalance': 100}}"
      ]
     },
     "execution_count": 50,
     "metadata": {},
     "output_type": "execute_result"
    }
   ],
   "source": [
    "r = {}\n",
    "for i, j in enumerate(tt.rename(columns=str.lower).to_dict(orient=\"records\")):\n",
    "    r[f\"record-{i}\"] = j\n",
    "\n",
    "r"
   ]
  },
  {
   "cell_type": "markdown",
   "id": "2c6fb70c",
   "metadata": {},
   "source": [
    "## Load data and model"
   ]
  },
  {
   "cell_type": "code",
   "execution_count": 6,
   "id": "1853033d",
   "metadata": {},
   "outputs": [],
   "source": [
    "ref_data = pd.read_parquet('data/reference.parquet')\n",
    "current_data = pd.read_parquet('data/raw.parquet')"
   ]
  },
  {
   "cell_type": "code",
   "execution_count": 36,
   "id": "802e0ec8",
   "metadata": {},
   "outputs": [
    {
     "ename": "TypeError",
     "evalue": "int() argument must be a string, a bytes-like object or a real number, not 'datetime.date'",
     "output_type": "error",
     "traceback": [
      "\u001b[0;31m---------------------------------------------------------------------------\u001b[0m",
      "\u001b[0;31mTypeError\u001b[0m                                 Traceback (most recent call last)",
      "Cell \u001b[0;32mIn[36], line 1\u001b[0m\n\u001b[0;32m----> 1\u001b[0m current_data\u001b[39m.\u001b[39;49mfillna(\u001b[39m0\u001b[39;49m)\u001b[39m.\u001b[39;49mastype(\u001b[39m\"\u001b[39;49m\u001b[39mint16\u001b[39;49m\u001b[39m\"\u001b[39;49m)\n",
      "File \u001b[0;32m~/.local/share/virtualenvs/05-monitoring-NIVV9OLH/lib/python3.10/site-packages/pandas/core/generic.py:6324\u001b[0m, in \u001b[0;36mNDFrame.astype\u001b[0;34m(self, dtype, copy, errors)\u001b[0m\n\u001b[1;32m   6317\u001b[0m     results \u001b[39m=\u001b[39m [\n\u001b[1;32m   6318\u001b[0m         \u001b[39mself\u001b[39m\u001b[39m.\u001b[39miloc[:, i]\u001b[39m.\u001b[39mastype(dtype, copy\u001b[39m=\u001b[39mcopy)\n\u001b[1;32m   6319\u001b[0m         \u001b[39mfor\u001b[39;00m i \u001b[39min\u001b[39;00m \u001b[39mrange\u001b[39m(\u001b[39mlen\u001b[39m(\u001b[39mself\u001b[39m\u001b[39m.\u001b[39mcolumns))\n\u001b[1;32m   6320\u001b[0m     ]\n\u001b[1;32m   6322\u001b[0m \u001b[39melse\u001b[39;00m:\n\u001b[1;32m   6323\u001b[0m     \u001b[39m# else, only a single dtype is given\u001b[39;00m\n\u001b[0;32m-> 6324\u001b[0m     new_data \u001b[39m=\u001b[39m \u001b[39mself\u001b[39;49m\u001b[39m.\u001b[39;49m_mgr\u001b[39m.\u001b[39;49mastype(dtype\u001b[39m=\u001b[39;49mdtype, copy\u001b[39m=\u001b[39;49mcopy, errors\u001b[39m=\u001b[39;49merrors)\n\u001b[1;32m   6325\u001b[0m     \u001b[39mreturn\u001b[39;00m \u001b[39mself\u001b[39m\u001b[39m.\u001b[39m_constructor(new_data)\u001b[39m.\u001b[39m__finalize__(\u001b[39mself\u001b[39m, method\u001b[39m=\u001b[39m\u001b[39m\"\u001b[39m\u001b[39mastype\u001b[39m\u001b[39m\"\u001b[39m)\n\u001b[1;32m   6327\u001b[0m \u001b[39m# GH 33113: handle empty frame or series\u001b[39;00m\n",
      "File \u001b[0;32m~/.local/share/virtualenvs/05-monitoring-NIVV9OLH/lib/python3.10/site-packages/pandas/core/internals/managers.py:451\u001b[0m, in \u001b[0;36mBaseBlockManager.astype\u001b[0;34m(self, dtype, copy, errors)\u001b[0m\n\u001b[1;32m    448\u001b[0m \u001b[39melif\u001b[39;00m using_copy_on_write():\n\u001b[1;32m    449\u001b[0m     copy \u001b[39m=\u001b[39m \u001b[39mFalse\u001b[39;00m\n\u001b[0;32m--> 451\u001b[0m \u001b[39mreturn\u001b[39;00m \u001b[39mself\u001b[39;49m\u001b[39m.\u001b[39;49mapply(\n\u001b[1;32m    452\u001b[0m     \u001b[39m\"\u001b[39;49m\u001b[39mastype\u001b[39;49m\u001b[39m\"\u001b[39;49m,\n\u001b[1;32m    453\u001b[0m     dtype\u001b[39m=\u001b[39;49mdtype,\n\u001b[1;32m    454\u001b[0m     copy\u001b[39m=\u001b[39;49mcopy,\n\u001b[1;32m    455\u001b[0m     errors\u001b[39m=\u001b[39;49merrors,\n\u001b[1;32m    456\u001b[0m     using_cow\u001b[39m=\u001b[39;49musing_copy_on_write(),\n\u001b[1;32m    457\u001b[0m )\n",
      "File \u001b[0;32m~/.local/share/virtualenvs/05-monitoring-NIVV9OLH/lib/python3.10/site-packages/pandas/core/internals/managers.py:352\u001b[0m, in \u001b[0;36mBaseBlockManager.apply\u001b[0;34m(self, f, align_keys, **kwargs)\u001b[0m\n\u001b[1;32m    350\u001b[0m         applied \u001b[39m=\u001b[39m b\u001b[39m.\u001b[39mapply(f, \u001b[39m*\u001b[39m\u001b[39m*\u001b[39mkwargs)\n\u001b[1;32m    351\u001b[0m     \u001b[39melse\u001b[39;00m:\n\u001b[0;32m--> 352\u001b[0m         applied \u001b[39m=\u001b[39m \u001b[39mgetattr\u001b[39;49m(b, f)(\u001b[39m*\u001b[39;49m\u001b[39m*\u001b[39;49mkwargs)\n\u001b[1;32m    353\u001b[0m     result_blocks \u001b[39m=\u001b[39m extend_blocks(applied, result_blocks)\n\u001b[1;32m    355\u001b[0m out \u001b[39m=\u001b[39m \u001b[39mtype\u001b[39m(\u001b[39mself\u001b[39m)\u001b[39m.\u001b[39mfrom_blocks(result_blocks, \u001b[39mself\u001b[39m\u001b[39m.\u001b[39maxes)\n",
      "File \u001b[0;32m~/.local/share/virtualenvs/05-monitoring-NIVV9OLH/lib/python3.10/site-packages/pandas/core/internals/blocks.py:511\u001b[0m, in \u001b[0;36mBlock.astype\u001b[0;34m(self, dtype, copy, errors, using_cow)\u001b[0m\n\u001b[1;32m    491\u001b[0m \u001b[39m\u001b[39m\u001b[39m\"\"\"\u001b[39;00m\n\u001b[1;32m    492\u001b[0m \u001b[39mCoerce to the new dtype.\u001b[39;00m\n\u001b[1;32m    493\u001b[0m \n\u001b[0;32m   (...)\u001b[0m\n\u001b[1;32m    507\u001b[0m \u001b[39mBlock\u001b[39;00m\n\u001b[1;32m    508\u001b[0m \u001b[39m\"\"\"\u001b[39;00m\n\u001b[1;32m    509\u001b[0m values \u001b[39m=\u001b[39m \u001b[39mself\u001b[39m\u001b[39m.\u001b[39mvalues\n\u001b[0;32m--> 511\u001b[0m new_values \u001b[39m=\u001b[39m astype_array_safe(values, dtype, copy\u001b[39m=\u001b[39;49mcopy, errors\u001b[39m=\u001b[39;49merrors)\n\u001b[1;32m    513\u001b[0m new_values \u001b[39m=\u001b[39m maybe_coerce_values(new_values)\n\u001b[1;32m    515\u001b[0m refs \u001b[39m=\u001b[39m \u001b[39mNone\u001b[39;00m\n",
      "File \u001b[0;32m~/.local/share/virtualenvs/05-monitoring-NIVV9OLH/lib/python3.10/site-packages/pandas/core/dtypes/astype.py:242\u001b[0m, in \u001b[0;36mastype_array_safe\u001b[0;34m(values, dtype, copy, errors)\u001b[0m\n\u001b[1;32m    239\u001b[0m     dtype \u001b[39m=\u001b[39m dtype\u001b[39m.\u001b[39mnumpy_dtype\n\u001b[1;32m    241\u001b[0m \u001b[39mtry\u001b[39;00m:\n\u001b[0;32m--> 242\u001b[0m     new_values \u001b[39m=\u001b[39m astype_array(values, dtype, copy\u001b[39m=\u001b[39;49mcopy)\n\u001b[1;32m    243\u001b[0m \u001b[39mexcept\u001b[39;00m (\u001b[39mValueError\u001b[39;00m, \u001b[39mTypeError\u001b[39;00m):\n\u001b[1;32m    244\u001b[0m     \u001b[39m# e.g. _astype_nansafe can fail on object-dtype of strings\u001b[39;00m\n\u001b[1;32m    245\u001b[0m     \u001b[39m#  trying to convert to float\u001b[39;00m\n\u001b[1;32m    246\u001b[0m     \u001b[39mif\u001b[39;00m errors \u001b[39m==\u001b[39m \u001b[39m\"\u001b[39m\u001b[39mignore\u001b[39m\u001b[39m\"\u001b[39m:\n",
      "File \u001b[0;32m~/.local/share/virtualenvs/05-monitoring-NIVV9OLH/lib/python3.10/site-packages/pandas/core/dtypes/astype.py:187\u001b[0m, in \u001b[0;36mastype_array\u001b[0;34m(values, dtype, copy)\u001b[0m\n\u001b[1;32m    184\u001b[0m     values \u001b[39m=\u001b[39m values\u001b[39m.\u001b[39mastype(dtype, copy\u001b[39m=\u001b[39mcopy)\n\u001b[1;32m    186\u001b[0m \u001b[39melse\u001b[39;00m:\n\u001b[0;32m--> 187\u001b[0m     values \u001b[39m=\u001b[39m _astype_nansafe(values, dtype, copy\u001b[39m=\u001b[39;49mcopy)\n\u001b[1;32m    189\u001b[0m \u001b[39m# in pandas we don't store numpy str dtypes, so convert to object\u001b[39;00m\n\u001b[1;32m    190\u001b[0m \u001b[39mif\u001b[39;00m \u001b[39misinstance\u001b[39m(dtype, np\u001b[39m.\u001b[39mdtype) \u001b[39mand\u001b[39;00m \u001b[39missubclass\u001b[39m(values\u001b[39m.\u001b[39mdtype\u001b[39m.\u001b[39mtype, \u001b[39mstr\u001b[39m):\n",
      "File \u001b[0;32m~/.local/share/virtualenvs/05-monitoring-NIVV9OLH/lib/python3.10/site-packages/pandas/core/dtypes/astype.py:138\u001b[0m, in \u001b[0;36m_astype_nansafe\u001b[0;34m(arr, dtype, copy, skipna)\u001b[0m\n\u001b[1;32m    134\u001b[0m     \u001b[39mraise\u001b[39;00m \u001b[39mValueError\u001b[39;00m(msg)\n\u001b[1;32m    136\u001b[0m \u001b[39mif\u001b[39;00m copy \u001b[39mor\u001b[39;00m is_object_dtype(arr\u001b[39m.\u001b[39mdtype) \u001b[39mor\u001b[39;00m is_object_dtype(dtype):\n\u001b[1;32m    137\u001b[0m     \u001b[39m# Explicit copy, or required since NumPy can't view from / to object.\u001b[39;00m\n\u001b[0;32m--> 138\u001b[0m     \u001b[39mreturn\u001b[39;00m arr\u001b[39m.\u001b[39;49mastype(dtype, copy\u001b[39m=\u001b[39;49m\u001b[39mTrue\u001b[39;49;00m)\n\u001b[1;32m    140\u001b[0m \u001b[39mreturn\u001b[39;00m arr\u001b[39m.\u001b[39mastype(dtype, copy\u001b[39m=\u001b[39mcopy)\n",
      "\u001b[0;31mTypeError\u001b[0m: int() argument must be a string, a bytes-like object or a real number, not 'datetime.date'"
     ]
    }
   ],
   "source": [
    "current_data.fillna(0).astype(\"int16\")"
   ]
  },
  {
   "cell_type": "code",
   "execution_count": 3,
   "id": "2c2a3b5f",
   "metadata": {},
   "outputs": [],
   "source": [
    "model = Scorecard.load('models/scorecard-model.pkl')"
   ]
  },
  {
   "cell_type": "code",
   "execution_count": 8,
   "id": "3a43c2fb",
   "metadata": {},
   "outputs": [],
   "source": [
    "# data labeling\n",
    "TARGET = \"RiskPerformance\"\n",
    "num_features = [\n",
    "            \"AverageMInFile\",\n",
    "            \"MSinceMostRecentInqexcl7days\",\n",
    "            \"PercentTradesNeverDelq\",\n",
    "            \"ExternalRiskEstimate\",\n",
    "            \"NetFractionRevolvingBurden\",\n",
    "            \"NumSatisfactoryTrades\",\n",
    "            \"PercentInstallTrades\"\n",
    "      ]\n",
    "cat_features = []"
   ]
  },
  {
   "cell_type": "code",
   "execution_count": 9,
   "id": "87724a5f",
   "metadata": {},
   "outputs": [],
   "source": [
    "t = ref_data[num_features]"
   ]
  },
  {
   "cell_type": "code",
   "execution_count": 10,
   "metadata": {},
   "outputs": [
    {
     "data": {
      "text/plain": [
       "{'AverageMInFile': 76,\n",
       " 'MSinceMostRecentInqexcl7days': 0,\n",
       " 'PercentTradesNeverDelq': 100,\n",
       " 'ExternalRiskEstimate': 69,\n",
       " 'NetFractionRevolvingBurden': 12,\n",
       " 'NumSatisfactoryTrades': 36,\n",
       " 'PercentInstallTrades': 25}"
      ]
     },
     "execution_count": 10,
     "metadata": {},
     "output_type": "execute_result"
    }
   ],
   "source": [
    "t.head(1).to_dict(orient=\"records\")[0]"
   ]
  },
  {
   "cell_type": "code",
   "execution_count": 11,
   "id": "13335a4d",
   "metadata": {},
   "outputs": [],
   "source": [
    "rc = {'AverageMInFile': 76,\n",
    " 'MSinceMostRecentInqexcl7days': 0,\n",
    " 'PercentTradesNeverDelq': 100,\n",
    " 'ExternalRiskEstimate': 69,\n",
    " 'NetFractionRevolvingBurden': 12,\n",
    " 'NumSatisfactoryTrades': 36,\n",
    " 'PercentInstallTrades': 25}"
   ]
  },
  {
   "cell_type": "code",
   "execution_count": 12,
   "id": "23d2607c",
   "metadata": {},
   "outputs": [
    {
     "data": {
      "text/html": [
       "<div>\n",
       "<style scoped>\n",
       "    .dataframe tbody tr th:only-of-type {\n",
       "        vertical-align: middle;\n",
       "    }\n",
       "\n",
       "    .dataframe tbody tr th {\n",
       "        vertical-align: top;\n",
       "    }\n",
       "\n",
       "    .dataframe thead th {\n",
       "        text-align: right;\n",
       "    }\n",
       "</style>\n",
       "<table border=\"1\" class=\"dataframe\">\n",
       "  <thead>\n",
       "    <tr style=\"text-align: right;\">\n",
       "      <th></th>\n",
       "      <th>AverageMInFile</th>\n",
       "      <th>MSinceMostRecentInqexcl7days</th>\n",
       "      <th>PercentTradesNeverDelq</th>\n",
       "      <th>ExternalRiskEstimate</th>\n",
       "      <th>NetFractionRevolvingBurden</th>\n",
       "      <th>NumSatisfactoryTrades</th>\n",
       "      <th>PercentInstallTrades</th>\n",
       "    </tr>\n",
       "  </thead>\n",
       "  <tbody>\n",
       "    <tr>\n",
       "      <th>0</th>\n",
       "      <td>76</td>\n",
       "      <td>0</td>\n",
       "      <td>100</td>\n",
       "      <td>69</td>\n",
       "      <td>12</td>\n",
       "      <td>36</td>\n",
       "      <td>25</td>\n",
       "    </tr>\n",
       "  </tbody>\n",
       "</table>\n",
       "</div>"
      ],
      "text/plain": [
       "   AverageMInFile  MSinceMostRecentInqexcl7days  PercentTradesNeverDelq  \\\n",
       "0              76                             0                     100   \n",
       "\n",
       "   ExternalRiskEstimate  NetFractionRevolvingBurden  NumSatisfactoryTrades  \\\n",
       "0                    69                          12                     36   \n",
       "\n",
       "   PercentInstallTrades  \n",
       "0                    25  "
      ]
     },
     "execution_count": 12,
     "metadata": {},
     "output_type": "execute_result"
    }
   ],
   "source": [
    "pd.DataFrame([rc])"
   ]
  },
  {
   "cell_type": "code",
   "execution_count": 16,
   "id": "f7f1960f",
   "metadata": {},
   "outputs": [
    {
     "ename": "IndexError",
     "evalue": "only integers, slices (`:`), ellipsis (`...`), numpy.newaxis (`None`) and integer or boolean arrays are valid indices",
     "output_type": "error",
     "traceback": [
      "\u001b[0;31m---------------------------------------------------------------------------\u001b[0m",
      "\u001b[0;31mIndexError\u001b[0m                                Traceback (most recent call last)",
      "Cell \u001b[0;32mIn[16], line 1\u001b[0m\n\u001b[0;32m----> 1\u001b[0m model\u001b[39m.\u001b[39;49mscore(t\u001b[39m.\u001b[39;49mhead(\u001b[39m1\u001b[39;49m)\u001b[39m.\u001b[39;49mto_numpy()\u001b[39m.\u001b[39;49mreshape(\u001b[39m-\u001b[39;49m\u001b[39m1\u001b[39;49m,\u001b[39m1\u001b[39;49m))\n",
      "File \u001b[0;32m~/.local/share/virtualenvs/05-monitoring-NIVV9OLH/lib/python3.10/site-packages/optbinning/scorecard/scorecard.py:409\u001b[0m, in \u001b[0;36mScorecard.score\u001b[0;34m(self, X)\u001b[0m\n\u001b[1;32m    396\u001b[0m \u001b[39mdef\u001b[39;00m \u001b[39mscore\u001b[39m(\u001b[39mself\u001b[39m, X):\n\u001b[1;32m    397\u001b[0m \u001b[39m    \u001b[39m\u001b[39m\"\"\"Score of the dataset.\u001b[39;00m\n\u001b[1;32m    398\u001b[0m \n\u001b[1;32m    399\u001b[0m \u001b[39m    Parameters\u001b[39;00m\n\u001b[0;32m   (...)\u001b[0m\n\u001b[1;32m    407\u001b[0m \u001b[39m        The score of the input samples.\u001b[39;00m\n\u001b[1;32m    408\u001b[0m \u001b[39m    \"\"\"\u001b[39;00m\n\u001b[0;32m--> 409\u001b[0m     X_t \u001b[39m=\u001b[39m \u001b[39mself\u001b[39;49m\u001b[39m.\u001b[39;49m_transform(\n\u001b[1;32m    410\u001b[0m         X\u001b[39m=\u001b[39;49mX, metric\u001b[39m=\u001b[39;49m\u001b[39m\"\u001b[39;49m\u001b[39mindices\u001b[39;49m\u001b[39m\"\u001b[39;49m, metric_special\u001b[39m=\u001b[39;49m\u001b[39m\"\u001b[39;49m\u001b[39mempirical\u001b[39;49m\u001b[39m\"\u001b[39;49m,\n\u001b[1;32m    411\u001b[0m         metric_missing\u001b[39m=\u001b[39;49m\u001b[39m\"\u001b[39;49m\u001b[39mempirical\u001b[39;49m\u001b[39m\"\u001b[39;49m)\n\u001b[1;32m    413\u001b[0m     score_ \u001b[39m=\u001b[39m np\u001b[39m.\u001b[39mzeros(X_t\u001b[39m.\u001b[39mshape[\u001b[39m0\u001b[39m])\n\u001b[1;32m    414\u001b[0m     selected_variables \u001b[39m=\u001b[39m \u001b[39mself\u001b[39m\u001b[39m.\u001b[39mbinning_process_\u001b[39m.\u001b[39mget_support(names\u001b[39m=\u001b[39m\u001b[39mTrue\u001b[39;00m)\n",
      "File \u001b[0;32m~/.local/share/virtualenvs/05-monitoring-NIVV9OLH/lib/python3.10/site-packages/optbinning/scorecard/scorecard.py:678\u001b[0m, in \u001b[0;36mScorecard._transform\u001b[0;34m(self, X, metric, metric_special, metric_missing)\u001b[0m\n\u001b[1;32m    674\u001b[0m \u001b[39mdef\u001b[39;00m \u001b[39m_transform\u001b[39m(\u001b[39mself\u001b[39m, X, metric, metric_special, metric_missing):\n\u001b[1;32m    675\u001b[0m     \u001b[39mself\u001b[39m\u001b[39m.\u001b[39m_check_is_fitted()\n\u001b[1;32m    677\u001b[0m     X_t \u001b[39m=\u001b[39m \u001b[39mself\u001b[39m\u001b[39m.\u001b[39mbinning_process_\u001b[39m.\u001b[39mtransform(\n\u001b[0;32m--> 678\u001b[0m         X\u001b[39m=\u001b[39mX[\u001b[39mself\u001b[39;49m\u001b[39m.\u001b[39;49mbinning_process_\u001b[39m.\u001b[39;49mvariable_names], metric\u001b[39m=\u001b[39mmetric,\n\u001b[1;32m    679\u001b[0m         metric_special\u001b[39m=\u001b[39mmetric_special, metric_missing\u001b[39m=\u001b[39mmetric_missing)\n\u001b[1;32m    681\u001b[0m     \u001b[39mreturn\u001b[39;00m X_t\n",
      "\u001b[0;31mIndexError\u001b[0m: only integers, slices (`:`), ellipsis (`...`), numpy.newaxis (`None`) and integer or boolean arrays are valid indices"
     ]
    }
   ],
   "source": [
    "model.score(t.head(1).to_numpy().reshape(-1,1))"
   ]
  },
  {
   "attachments": {},
   "cell_type": "markdown",
   "id": "5c055895",
   "metadata": {},
   "source": [
    "Problematic data we created was marked for the October 1 to 12. We can pretend that we found that date from monitoring."
   ]
  },
  {
   "cell_type": "code",
   "execution_count": null,
   "id": "42784a5d",
   "metadata": {},
   "outputs": [],
   "source": [
    "problematic_data = current_data.loc[\n",
    "    (current_data[\"operation_date\"] >= datetime.date(2023,10,1)) & \n",
    "    (current_data[\"operation_date\"]< datetime.date(2023,10,13))\n",
    "    ][current_data.columns[::-1]]"
   ]
  },
  {
   "cell_type": "code",
   "execution_count": null,
   "id": "40c4bb28",
   "metadata": {},
   "outputs": [],
   "source": [
    "problematic_data.head()"
   ]
  },
  {
   "cell_type": "markdown",
   "id": "a1af4d1b",
   "metadata": {},
   "source": [
    "## Generate Test Suite and Report"
   ]
  },
  {
   "cell_type": "code",
   "execution_count": null,
   "id": "4a033c0b",
   "metadata": {},
   "outputs": [],
   "source": [
    "column_mapping = ColumnMapping(\n",
    "    prediction='prediction',\n",
    "    numerical_features=num_features,\n",
    "    categorical_features=cat_features,\n",
    "    target=None\n",
    ")"
   ]
  },
  {
   "cell_type": "code",
   "execution_count": null,
   "id": "01225608",
   "metadata": {},
   "outputs": [],
   "source": [
    "problematic_data['prediction'] = model.score(problematic_data[num_features + cat_features].fillna(0))\n",
    "ref_data['prediction'] = model.score(ref_data[num_features + cat_features].fillna(0))"
   ]
  },
  {
   "cell_type": "code",
   "execution_count": null,
   "id": "125b71e2",
   "metadata": {},
   "outputs": [],
   "source": [
    "test_suite = TestSuite(tests = [DataDriftTestPreset()])\n",
    "test_suite.run(reference_data=ref_data, current_data=problematic_data, column_mapping=column_mapping)"
   ]
  },
  {
   "cell_type": "code",
   "execution_count": null,
   "id": "c299926b",
   "metadata": {},
   "outputs": [],
   "source": [
    "test_suite.show(mode='inline')"
   ]
  },
  {
   "attachments": {},
   "cell_type": "markdown",
   "id": "64c1aa9d",
   "metadata": {},
   "source": [
    "Use report to support analysis. Instead of using the metrics individually we use DataDriftPreset"
   ]
  },
  {
   "cell_type": "code",
   "execution_count": null,
   "id": "5ba8bbe2",
   "metadata": {},
   "outputs": [],
   "source": [
    "report = Report(metrics = [DataDriftPreset()])\n",
    "report.run(reference_data=ref_data, current_data=problematic_data, column_mapping=column_mapping)"
   ]
  },
  {
   "cell_type": "code",
   "execution_count": null,
   "id": "021a899d",
   "metadata": {},
   "outputs": [],
   "source": [
    "report.show(mode='inline')"
   ]
  },
  {
   "cell_type": "code",
   "execution_count": null,
   "id": "039c1ef7",
   "metadata": {},
   "outputs": [],
   "source": [
    "data_quality_test_suite = TestSuite(tests=[\n",
    "   DataQualityTestPreset(),\n",
    "])\n",
    " \n",
    "data_quality_test_suite.run(reference_data=ref_data, current_data=problematic_data, column_mapping=column_mapping)\n",
    "data_quality_test_suite"
   ]
  },
  {
   "attachments": {},
   "cell_type": "markdown",
   "id": "c712d8f8",
   "metadata": {},
   "source": [
    "Check multiple tests"
   ]
  },
  {
   "cell_type": "code",
   "execution_count": null,
   "id": "ed2bf479",
   "metadata": {},
   "outputs": [],
   "source": [
    "from evidently.tests import TestColumnDrift, TestShareOfDriftedColumns"
   ]
  },
  {
   "attachments": {},
   "cell_type": "markdown",
   "id": "58d851cb",
   "metadata": {},
   "source": [
    "Test type and applicability\n",
    "- z: categorical\n",
    "- g_test: categorical"
   ]
  },
  {
   "cell_type": "code",
   "execution_count": null,
   "id": "adfbea4f",
   "metadata": {},
   "outputs": [],
   "source": [
    "test_types = [\"jensenshannon\", \"kl_div\", \"jensenshannon\", \"cramer_von_mises\", \"psi\", \"anderson\", \"anderson\"]\n",
    "per_column_stattest = dict(zip(num_features, test_types))"
   ]
  },
  {
   "cell_type": "code",
   "execution_count": null,
   "id": "96617b44",
   "metadata": {},
   "outputs": [],
   "source": [
    "data_drift_dataset_tests = TestSuite(tests=[\n",
    "    TestShareOfDriftedColumns(per_column_stattest=per_column_stattest),\n",
    "])\n",
    "\n",
    "data_drift_dataset_tests.run(reference_data=ref_data, current_data=problematic_data)\n",
    "data_drift_dataset_tests"
   ]
  },
  {
   "cell_type": "code",
   "execution_count": null,
   "id": "415d7deb",
   "metadata": {},
   "outputs": [],
   "source": [
    "# multiple_report = Report(metrics = [DataDriftPreset(), DataQualityTestPreset()])\n",
    "# TestSuite(tests = [DataDriftTestPreset()])\n",
    "# multiple_report.run(reference_data=ref_data, current_data=problematic_data, column_mapping=column_mapping)"
   ]
  },
  {
   "attachments": {},
   "cell_type": "markdown",
   "id": "a112c404",
   "metadata": {},
   "source": [
    "Another way to set tests"
   ]
  },
  {
   "cell_type": "code",
   "execution_count": null,
   "id": "87e49c85",
   "metadata": {},
   "outputs": [],
   "source": [
    "\n",
    "data_drift_dataset_tests = TestSuite(tests=[\n",
    "    TestShareOfDriftedColumns(num_stattest='psi', cat_stattest='jensenshannon'),\n",
    "])\n",
    "\n",
    "data_drift_dataset_tests.run(reference_data=ref_data, current_data=problematic_data)\n",
    "data_drift_dataset_tests\n",
    "\n"
   ]
  },
  {
   "cell_type": "code",
   "execution_count": null,
   "id": "3c245e70",
   "metadata": {},
   "outputs": [],
   "source": [
    "multiple_test = TestSuite(tests = [DataDriftTestPreset(), DataQualityTestPreset()])\n",
    "multiple_test.run(reference_data=ref_data, current_data=problematic_data, column_mapping=column_mapping)"
   ]
  },
  {
   "cell_type": "code",
   "execution_count": null,
   "id": "b0f297c0",
   "metadata": {},
   "outputs": [],
   "source": [
    "multiple_test"
   ]
  }
 ],
 "metadata": {
  "kernelspec": {
   "display_name": "Python 3 (ipykernel)",
   "language": "python",
   "name": "python3"
  },
  "language_info": {
   "codemirror_mode": {
    "name": "ipython",
    "version": 3
   },
   "file_extension": ".py",
   "mimetype": "text/x-python",
   "name": "python",
   "nbconvert_exporter": "python",
   "pygments_lexer": "ipython3",
   "version": "3.10.9"
  }
 },
 "nbformat": 4,
 "nbformat_minor": 5
}
