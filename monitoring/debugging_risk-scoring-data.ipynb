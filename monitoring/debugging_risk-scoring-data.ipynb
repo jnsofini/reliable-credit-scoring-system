{
 "cells": [
  {
   "cell_type": "markdown",
   "id": "ef3de2e5",
   "metadata": {},
   "source": [
    "# Debugging with Evidently Test Suites and Reports"
   ]
  },
  {
   "cell_type": "code",
   "execution_count": null,
   "id": "846c2997",
   "metadata": {},
   "outputs": [],
   "source": [
    "import datetime\n",
    "import pandas as pd\n",
    "\n",
    "from evidently import ColumnMapping\n",
    "from evidently.report import Report\n",
    "from evidently.metric_preset import DataDriftPreset\n",
    "\n",
    "from evidently.test_suite import TestSuite\n",
    "from evidently.test_preset import DataDriftTestPreset, DataQualityTestPreset\n",
    "\n",
    "from joblib import dump, load\n",
    "from optbinning import Scorecard\n",
    "\n",
    "from sklearn.linear_model import LinearRegression\n",
    "from sklearn.metrics import mean_absolute_error, mean_absolute_percentage_error"
   ]
  },
  {
   "cell_type": "code",
   "execution_count": null,
   "id": "b71b6083",
   "metadata": {},
   "outputs": [],
   "source": [
    "t = pd.read_csv(\"/home/fini/github-projects/mlops/data/heloc_dataset_v1.csv\")"
   ]
  },
  {
   "cell_type": "code",
   "execution_count": null,
   "id": "88c4f737",
   "metadata": {},
   "outputs": [],
   "source": [
    "tt[\"RiskPerformance\"] = (tt[\"RiskPerformance\"]==\"Bad\").astype(\"int8\")"
   ]
  },
  {
   "cell_type": "markdown",
   "id": "785a7048",
   "metadata": {},
   "source": []
  },
  {
   "cell_type": "code",
   "execution_count": null,
   "id": "ded1661d",
   "metadata": {},
   "outputs": [],
   "source": [
    "r = {}\n",
    "for i, j in enumerate(tt.rename(columns=str.lower).to_dict(orient=\"records\")):\n",
    "    r[f\"record-{i}\"] = j\n",
    "\n",
    "r"
   ]
  },
  {
   "cell_type": "markdown",
   "id": "2c6fb70c",
   "metadata": {},
   "source": [
    "## Load data and model"
   ]
  },
  {
   "cell_type": "code",
   "execution_count": null,
   "id": "1853033d",
   "metadata": {},
   "outputs": [],
   "source": [
    "ref_data = pd.read_parquet('data/reference.parquet')\n",
    "current_data = pd.read_parquet('data/raw.parquet')"
   ]
  },
  {
   "cell_type": "code",
   "execution_count": null,
   "id": "802e0ec8",
   "metadata": {},
   "outputs": [],
   "source": [
    "current_data.fillna(0).astype(\"int16\")"
   ]
  },
  {
   "cell_type": "code",
   "execution_count": null,
   "id": "2c2a3b5f",
   "metadata": {},
   "outputs": [],
   "source": [
    "model = Scorecard.load('models/scorecard-model.pkl')"
   ]
  },
  {
   "cell_type": "code",
   "execution_count": null,
   "id": "3a43c2fb",
   "metadata": {},
   "outputs": [],
   "source": [
    "# data labeling\n",
    "TARGET = \"RiskPerformance\"\n",
    "num_features = [\n",
    "            \"AverageMInFile\",\n",
    "            \"MSinceMostRecentInqexcl7days\",\n",
    "            \"PercentTradesNeverDelq\",\n",
    "            \"ExternalRiskEstimate\",\n",
    "            \"NetFractionRevolvingBurden\",\n",
    "            \"NumSatisfactoryTrades\",\n",
    "            \"PercentInstallTrades\"\n",
    "      ]\n",
    "cat_features = []"
   ]
  },
  {
   "cell_type": "code",
   "execution_count": null,
   "id": "87724a5f",
   "metadata": {},
   "outputs": [],
   "source": [
    "t = ref_data[num_features]"
   ]
  },
  {
   "cell_type": "code",
   "execution_count": null,
   "metadata": {},
   "outputs": [],
   "source": [
    "t.head(1).to_dict(orient=\"records\")[0]"
   ]
  },
  {
   "cell_type": "code",
   "execution_count": null,
   "id": "13335a4d",
   "metadata": {},
   "outputs": [],
   "source": [
    "rc = {'AverageMInFile': 76,\n",
    " 'MSinceMostRecentInqexcl7days': 0,\n",
    " 'PercentTradesNeverDelq': 100,\n",
    " 'ExternalRiskEstimate': 69,\n",
    " 'NetFractionRevolvingBurden': 12,\n",
    " 'NumSatisfactoryTrades': 36,\n",
    " 'PercentInstallTrades': 25}"
   ]
  },
  {
   "attachments": {},
   "cell_type": "markdown",
   "id": "5c055895",
   "metadata": {},
   "source": [
    "Problematic data we created was marked for the October 1 to 12. We can pretend that we found that date from monitoring."
   ]
  },
  {
   "cell_type": "code",
   "execution_count": null,
   "id": "42784a5d",
   "metadata": {},
   "outputs": [],
   "source": [
    "problematic_data = current_data.loc[\n",
    "    (current_data[\"operation_date\"] >= datetime.date(2023,10,1)) & \n",
    "    (current_data[\"operation_date\"]< datetime.date(2023,10,13))\n",
    "    ][current_data.columns[::-1]]"
   ]
  },
  {
   "cell_type": "code",
   "execution_count": null,
   "id": "40c4bb28",
   "metadata": {},
   "outputs": [],
   "source": [
    "problematic_data.head()"
   ]
  },
  {
   "cell_type": "markdown",
   "id": "a1af4d1b",
   "metadata": {},
   "source": [
    "## Generate Test Suite and Report"
   ]
  },
  {
   "cell_type": "code",
   "execution_count": null,
   "id": "4a033c0b",
   "metadata": {},
   "outputs": [],
   "source": [
    "column_mapping = ColumnMapping(\n",
    "    prediction='prediction',\n",
    "    numerical_features=num_features,\n",
    "    categorical_features=cat_features,\n",
    "    target=None\n",
    ")"
   ]
  },
  {
   "cell_type": "code",
   "execution_count": null,
   "id": "01225608",
   "metadata": {},
   "outputs": [],
   "source": [
    "problematic_data['prediction'] = model.score(problematic_data[num_features + cat_features].fillna(0))\n",
    "ref_data['prediction'] = model.score(ref_data[num_features + cat_features].fillna(0))"
   ]
  },
  {
   "cell_type": "code",
   "execution_count": null,
   "id": "125b71e2",
   "metadata": {},
   "outputs": [],
   "source": [
    "test_suite = TestSuite(tests = [DataDriftTestPreset()])\n",
    "test_suite.run(reference_data=ref_data, current_data=problematic_data, column_mapping=column_mapping)"
   ]
  },
  {
   "cell_type": "code",
   "execution_count": null,
   "id": "c299926b",
   "metadata": {},
   "outputs": [],
   "source": [
    "test_suite.show(mode='inline')"
   ]
  },
  {
   "attachments": {},
   "cell_type": "markdown",
   "id": "64c1aa9d",
   "metadata": {},
   "source": [
    "Use report to support analysis. Instead of using the metrics individually we use DataDriftPreset"
   ]
  },
  {
   "cell_type": "code",
   "execution_count": null,
   "id": "5ba8bbe2",
   "metadata": {},
   "outputs": [],
   "source": [
    "report = Report(metrics = [DataDriftPreset()])\n",
    "report.run(reference_data=ref_data, current_data=problematic_data, column_mapping=column_mapping)"
   ]
  },
  {
   "cell_type": "code",
   "execution_count": null,
   "id": "021a899d",
   "metadata": {},
   "outputs": [],
   "source": [
    "report.show(mode='inline')"
   ]
  },
  {
   "cell_type": "code",
   "execution_count": null,
   "id": "039c1ef7",
   "metadata": {},
   "outputs": [],
   "source": [
    "data_quality_test_suite = TestSuite(tests=[\n",
    "   DataQualityTestPreset(),\n",
    "])\n",
    " \n",
    "data_quality_test_suite.run(reference_data=ref_data, current_data=problematic_data, column_mapping=column_mapping)\n",
    "data_quality_test_suite"
   ]
  },
  {
   "attachments": {},
   "cell_type": "markdown",
   "id": "c712d8f8",
   "metadata": {},
   "source": [
    "Check multiple tests"
   ]
  },
  {
   "cell_type": "code",
   "execution_count": null,
   "id": "ed2bf479",
   "metadata": {},
   "outputs": [],
   "source": [
    "from evidently.tests import TestColumnDrift, TestShareOfDriftedColumns"
   ]
  },
  {
   "attachments": {},
   "cell_type": "markdown",
   "id": "58d851cb",
   "metadata": {},
   "source": [
    "Test type and applicability\n",
    "- z: categorical\n",
    "- g_test: categorical"
   ]
  },
  {
   "cell_type": "code",
   "execution_count": null,
   "id": "adfbea4f",
   "metadata": {},
   "outputs": [],
   "source": [
    "test_types = [\"jensenshannon\", \"kl_div\", \"jensenshannon\", \"cramer_von_mises\", \"psi\", \"anderson\", \"anderson\"]\n",
    "per_column_stattest = dict(zip(num_features, test_types))"
   ]
  },
  {
   "cell_type": "code",
   "execution_count": null,
   "id": "96617b44",
   "metadata": {},
   "outputs": [],
   "source": [
    "data_drift_dataset_tests = TestSuite(tests=[\n",
    "    TestShareOfDriftedColumns(per_column_stattest=per_column_stattest),\n",
    "])\n",
    "\n",
    "data_drift_dataset_tests.run(reference_data=ref_data, current_data=problematic_data)\n",
    "data_drift_dataset_tests"
   ]
  },
  {
   "cell_type": "code",
   "execution_count": null,
   "id": "415d7deb",
   "metadata": {},
   "outputs": [],
   "source": [
    "# multiple_report = Report(metrics = [DataDriftPreset(), DataQualityTestPreset()])\n",
    "# TestSuite(tests = [DataDriftTestPreset()])\n",
    "# multiple_report.run(reference_data=ref_data, current_data=problematic_data, column_mapping=column_mapping)"
   ]
  },
  {
   "attachments": {},
   "cell_type": "markdown",
   "id": "a112c404",
   "metadata": {},
   "source": [
    "Another way to set tests"
   ]
  },
  {
   "cell_type": "code",
   "execution_count": null,
   "id": "87e49c85",
   "metadata": {},
   "outputs": [],
   "source": [
    "\n",
    "data_drift_dataset_tests = TestSuite(tests=[\n",
    "    TestShareOfDriftedColumns(num_stattest='psi', cat_stattest='jensenshannon'),\n",
    "])\n",
    "\n",
    "data_drift_dataset_tests.run(reference_data=ref_data, current_data=problematic_data)\n",
    "data_drift_dataset_tests\n",
    "\n"
   ]
  },
  {
   "cell_type": "code",
   "execution_count": null,
   "id": "3c245e70",
   "metadata": {},
   "outputs": [],
   "source": [
    "multiple_test = TestSuite(tests = [DataDriftTestPreset(), DataQualityTestPreset()])\n",
    "multiple_test.run(reference_data=ref_data, current_data=problematic_data, column_mapping=column_mapping)"
   ]
  },
  {
   "cell_type": "code",
   "execution_count": null,
   "id": "b0f297c0",
   "metadata": {},
   "outputs": [],
   "source": [
    "multiple_test"
   ]
  }
 ],
 "metadata": {
  "kernelspec": {
   "display_name": "Python 3 (ipykernel)",
   "language": "python",
   "name": "python3"
  },
  "language_info": {
   "codemirror_mode": {
    "name": "ipython",
    "version": 3
   },
   "file_extension": ".py",
   "mimetype": "text/x-python",
   "name": "python",
   "nbconvert_exporter": "python",
   "pygments_lexer": "ipython3",
   "version": "3.10.9"
  }
 },
 "nbformat": 4,
 "nbformat_minor": 5
}
